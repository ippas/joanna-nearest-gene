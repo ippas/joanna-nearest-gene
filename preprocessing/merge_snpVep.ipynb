{
 "cells": [
  {
   "cell_type": "code",
   "execution_count": 2,
   "metadata": {},
   "outputs": [],
   "source": [
    "import csv\n",
    "import re\n",
    "\n",
    "def read_tsv(file_path):\n",
    "    # Read the data from the file\n",
    "    with open(file_path, newline='') as file:\n",
    "        reader = csv.reader(file, delimiter='\\t')\n",
    "        return [row for row in reader]\n",
    "\n",
    "def write_tsv(file_path, data):\n",
    "    # Write the data to a new file\n",
    "    with open(file_path, 'w', newline='') as file: \n",
    "        writer = csv.writer(file, delimiter='\\t')\n",
    "        writer.writerows(data)\n",
    "\n",
    "def is_desired_location_format(location):\n",
    "    # Define the pattern for the desired location format (e.g., '19:55494631-55494631')\n",
    "    pattern = r'^\\d+:\\d+-\\d+$'\n",
    "    return re.match(pattern, location)\n",
    "\n",
    "def process_files(source_path, data_path, output_file_path):\n",
    "    # Read data from both files\n",
    "    source_data = read_tsv(source_path)\n",
    "    data = read_tsv(data_path)\n",
    "\n",
    "    # Extract RSIDs from source file\n",
    "    column_headers = source_data[0]\n",
    "    rsid_index = column_headers.index('rsID')\n",
    "    source_rsids = [row[rsid_index] for row in source_data[0:] if row]\n",
    "\n",
    "\n",
    "    # Create a dictionary of RSIDs and locations from the data file\n",
    "    data_dict = {}\n",
    "    for row in data:\n",
    "        if row and len(row) >= 2:\n",
    "            rsid, location = row[0], row[1]\n",
    "            if rsid not in data_dict and is_desired_location_format(location):\n",
    "                data_dict[rsid] = [rsid, location]\n",
    "\n",
    "    # Filter and order data based on source file's RSIDs\n",
    "    ordered_data = [data_dict.get(rsid) for rsid in source_rsids if rsid in data_dict]\n",
    "    \n",
    "    # Insert the header row at the 0 position of source_data\n",
    "    header_row = ['rsID', 'Location']  \n",
    "    ordered_data.insert(0, header_row)\n",
    "\n",
    "    # Write the ordered data to a new file\n",
    "    write_tsv(output_file_path, ordered_data)\n",
    "    \n",
    "\n",
    "\n",
    "data_path = 'VEP_rsid_SNP.txt'\n",
    "source_path = 'snpList_SNP.tsv'\n",
    "output_file_path = 'output_results_SNP.tsv'\n",
    "\n",
    "# Process the files\n",
    "process_files(source_path, data_path, output_file_path)"
   ]
  },
  {
   "cell_type": "code",
   "execution_count": null,
   "metadata": {},
   "outputs": [],
   "source": []
  }
 ],
 "metadata": {
  "kernelspec": {
   "display_name": "Python 3",
   "language": "python",
   "name": "python3"
  },
  "language_info": {
   "codemirror_mode": {
    "name": "ipython",
    "version": 3
   },
   "file_extension": ".py",
   "mimetype": "text/x-python",
   "name": "python",
   "nbconvert_exporter": "python",
   "pygments_lexer": "ipython3",
   "version": "3.12.0"
  }
 },
 "nbformat": 4,
 "nbformat_minor": 2
}
